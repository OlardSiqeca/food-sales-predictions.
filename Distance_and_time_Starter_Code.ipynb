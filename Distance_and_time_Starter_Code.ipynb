{
  "nbformat": 4,
  "nbformat_minor": 0,
  "metadata": {
    "colab": {
      "name": "Distance_and_time_Starter_Code.ipynb",
      "provenance": [],
      "include_colab_link": true
    },
    "kernelspec": {
      "name": "python3",
      "display_name": "Python 3"
    },
    "language_info": {
      "name": "python"
    }
  },
  "cells": [
    {
      "cell_type": "markdown",
      "metadata": {
        "id": "view-in-github",
        "colab_type": "text"
      },
      "source": [
        "<a href=\"https://colab.research.google.com/github/OlardSiqeca/food-sales-predictions./blob/main/Distance_and_time_Starter_Code.ipynb\" target=\"_parent\"><img src=\"https://colab.research.google.com/assets/colab-badge.svg\" alt=\"Open In Colab\"/></a>"
      ]
    },
    {
      "cell_type": "markdown",
      "metadata": {
        "id": "FM-AQ_LY7Ec_"
      },
      "source": [
        "# Starter Code\n",
        "\n",
        "# Exploring NumPy Arrays: Distance and Time"
      ]
    },
    {
      "cell_type": "markdown",
      "metadata": {
        "id": "KFL-xYXw9hPp"
      },
      "source": [
        "1) Import the numpy library"
      ]
    },
    {
      "cell_type": "code",
      "metadata": {
        "id": "KfK86qGd6_sF"
      },
      "source": [
        "import numpy as np"
      ],
      "execution_count": null,
      "outputs": []
    },
    {
      "cell_type": "markdown",
      "metadata": {
        "id": "t9qEeja29wDt"
      },
      "source": [
        "2) Create a numpy array called \"distance\" that includes the following distances (in meters): 100, 200, 400, 800, 1500, 3000, 5000, 10000"
      ]
    },
    {
      "cell_type": "code",
      "metadata": {
        "id": "yffkXrYSdvpt"
      },
      "source": [
        "distance=np.array([100,200,400,800,1500,3000,5000,10000])"
      ],
      "execution_count": null,
      "outputs": []
    },
    {
      "cell_type": "code",
      "metadata": {
        "id": "RCNbF5yZ7Yu3"
      },
      "source": [
        ""
      ],
      "execution_count": null,
      "outputs": []
    },
    {
      "cell_type": "markdown",
      "metadata": {
        "id": "yJJj_-PS9-84"
      },
      "source": [
        "3) Use the min() and max() functions to find the minimum and maximum distances\n",
        "\n",
        "*   List item\n",
        "*   List item\n",
        "\n"
      ]
    },
    {
      "cell_type": "code",
      "metadata": {
        "id": "Cm0h775W7j1I"
      },
      "source": [
        "distance= np.array([100,200,400,800,1500,3000,5000,10000])\n",
        "print('Minimum value in arr: ', np.min(distance))\n",
        "\n",
        "\n",
        "distance=np.array([100,200,400,800,1500,3000,5000,10000])\n",
        "res= np.max(distance)\n",
        "print(\"Maximum Value\",res)\n",
        "\n",
        "\n",
        "\n"
      ],
      "execution_count": null,
      "outputs": []
    },
    {
      "cell_type": "markdown",
      "metadata": {
        "id": "1GKAMKM4-D4n"
      },
      "source": [
        "4) To find the average distance, use the np.mean() function"
      ]
    },
    {
      "cell_type": "code",
      "metadata": {
        "id": "eMVVUS7D7qzi"
      },
      "source": [
        "distance=np.array([100,200,400,800,1500,3000,5000,10000])\n",
        "average=np.mean(distance)\n",
        "print(\"Average Value\",average)\n"
      ],
      "execution_count": null,
      "outputs": []
    },
    {
      "cell_type": "markdown",
      "metadata": {
        "id": "jrsIZDBN-Lwg"
      },
      "source": [
        "5) use the sum() function to find the total distance"
      ]
    },
    {
      "cell_type": "code",
      "metadata": {
        "id": "hrlC2Z8Q7vFD"
      },
      "source": [
        "distance=np.array([100,200,400,800,1500,3000,5000,10000])\n",
        "total=np.sum(distance)\n",
        "print(\"Total Value\",total)"
      ],
      "execution_count": null,
      "outputs": []
    },
    {
      "cell_type": "markdown",
      "metadata": {
        "id": "TZh6JLbu-Qt_"
      },
      "source": [
        "6) Another valuable function is the cumsum() function which outputs the cumulative sum...notice the output will be 100, 300, 700 as it adds each new distance"
      ]
    },
    {
      "cell_type": "code",
      "metadata": {
        "id": "zE035Xl574vz"
      },
      "source": [
        "distance=np.array([100,200,400,800,1500,3000,5000,10000])\n",
        "Cumulative_sum =np.cumsum(distance)\n",
        "print(\"Cumulative_sum\",Cumulative_sum)"
      ],
      "execution_count": null,
      "outputs": []
    },
    {
      "cell_type": "markdown",
      "metadata": {
        "id": "XlxjutTF-XSf"
      },
      "source": [
        "7) To round all of the values in an array, use np.round()"
      ]
    },
    {
      "cell_type": "code",
      "metadata": {
        "id": "hrBA_Qqt8E3V"
      },
      "source": [
        "distance=np.array([100,200,400,800,1500,3000,5000,10000])\n",
        "round_nr =np.round(distance)\n",
        "print(\"Round\",round_nr)"
      ],
      "execution_count": null,
      "outputs": []
    },
    {
      "cell_type": "markdown",
      "metadata": {
        "id": "-wL-9Gl0-eSo"
      },
      "source": [
        "8) Create a numpy array called time that includes the following times (in seconds):  10.62, 21.34, 48.25, 113.43, 233.96, 506.53, 866.17, 1757.45"
      ]
    },
    {
      "cell_type": "code",
      "metadata": {
        "id": "KFwp2lb88KgE"
      },
      "source": [
        "time=np.array([10.62, 21.34, 48.25, 113.43, 233.96, 506.53, 866.17, 1757.45])"
      ],
      "execution_count": null,
      "outputs": []
    },
    {
      "cell_type": "markdown",
      "metadata": {
        "id": "MFspcIAi-kJY"
      },
      "source": [
        "9) the values in your time array correspond to olympic records for running the corresponding distances.  Perform the calculation needed to find the speed (in m/s) for each record distance"
      ]
    },
    {
      "cell_type": "code",
      "metadata": {
        "id": "VacJ48K3-jwq"
      },
      "source": [
        "time=np.array([10.62, 21.34, 48.25, 113.43, 233.96, 506.53, 866.17, 1757.45])\n",
        "distance=np.array([100,200,400,800,1500,3000,5000,10000])\n",
        "\n",
        "speed=distance/time\n",
        "print(speed)"
      ],
      "execution_count": null,
      "outputs": []
    },
    {
      "cell_type": "markdown",
      "metadata": {
        "id": "BRURQ2P3-oXv"
      },
      "source": [
        "10) One common problem data scientists run into is that we are given information in units that are not consistent.  \n",
        "For example, we might want to compare data that is given in meters to second to data that is given in miles per hour. A cheetah is the fastest land animal which can reach speeds of 75.0 miles per hour.  \n",
        "In order to compare our olympians to a cheetah, we need to be able to convert from one unit to another.\n",
        "Perform calculations to convert the olympic record speeds from meters/second into miles per hour.  Note: 1 meter = 0.00062 miles\n",
        "How do our olympians compare to the cheetah?"
      ]
    },
    {
      "cell_type": "code",
      "metadata": {
        "id": "8LehjzOx8YY0"
      },
      "source": [
        "\n",
        "\n",
        "mps_to_mph=([23.7563028   47.7362996  107.932355   253.7361042  523.3544824\n",
        " 1133.0772182 1937.5703198 3931.310203 ])\n",
        "\n",
        "for i in range(len(mps_to_mph)):\n",
        "    \n",
        "if x[i]>75\n",
        "print(\"Humans are more fast that cheetah\")\n",
        "\n",
        "else\n",
        "    print(\"cheetah is faster\")\n",
        "    \n",
        "\n",
        "    "
      ],
      "execution_count": null,
      "outputs": []
    }
  ]
}